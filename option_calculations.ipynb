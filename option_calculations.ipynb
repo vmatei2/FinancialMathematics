{
 "cells": [
  {
   "cell_type": "markdown",
   "metadata": {
    "collapsed": true,
    "pycharm": {
     "name": "#%% md\n"
    }
   },
   "source": [
    "## Pricing in a Black-Scholes Market\n",
    "\n",
    "The stock process is defined by the equation of Geometric Brownian Motion\n",
    "\n",
    "$dS_t = \\mu S_tdt + \\sigma S_t dW_t, t \\geq s, S_0 = S $\n",
    "\n",
    "Why is Black Scholes Model a reasonable model?\n",
    "\n",
    "* The rsiky asset price $S_t$ can not be negative - $S_t = S_0exp((\\mu - \\frac{\\sigma^2}{2})t + \\sigma W_t)$\n",
    "\n",
    "* It captures the phenomenon of noise in the evolution of the risky asset\n",
    "\n",
    "* The stochastic differential equation is easy to solve (taken from notes)\n",
    "\n",
    "\n",
    "What are the main drawbacks?\n",
    "\n",
    "1. Empirical data show that the log returns of many assets are not normally distributed\n",
    "2. The volatility parameter, $\\sigma$ is constant, but in practice the volatility of risky instruments is observed to be variable and random\n",
    "\n",
    "### Black Scholes Market Assumptions\n",
    "\n",
    "* The price of the underlying asset follows a geometric Brownian motion\n",
    "    * Implies that returns are normally distributed and leads to explicit solutions. However, in reality, prices can jump and that immediately invalidates\n",
    "    the assumption under consideration since a GBM has continuous sample paths. Also contradicts *fat tails*\n",
    "\n",
    "* Risk-free interest rate is a known function or a constant - in reality this is not known\n",
    "\n",
    "* There are no dividends on the underlying asset\n",
    "\n",
    "* There are no transcations costs on the underlying asset or short-sale restrictions\n",
    "\n",
    "* Delta hedging is done continuously\n",
    "    * Impossible - Hedging must be done in discrete time. Often the time between rehedges will depend on the level of transaction costs in the market for the underlying asset; the lower the costs,\n",
    "    the more frequent the hedging\n",
    "\n",
    "* There are no arbitrage opportunities\n",
    "\n",
    "* The volatility \\sigma of the underlying asset is a known function of time or a constant - clearly not true and can alter the option price significantly.\n",
    "\n",
    "### Put-Call Parity\n",
    "\n",
    "An equation that shows that the price of an European call option relates to the price of put option on the same stock (with the same strike price K)\n",
    "\n",
    "$\n",
    "c_0 + Ke^{-rT} = S_0 + p_0\n",
    "$\n",
    "\n",
    "Important to know that the put-call parity can be used to create synthetic versions of other securities"
   ]
  },
  {
   "cell_type": "code",
   "execution_count": 2,
   "outputs": [],
   "source": [
    "from helpers import black_scholes\n",
    "from helpers import verifiy_put_call_parity"
   ],
   "metadata": {
    "collapsed": false,
    "pycharm": {
     "name": "#%%\n"
    }
   }
  },
  {
   "cell_type": "code",
   "execution_count": 3,
   "outputs": [
    {
     "name": "stdout",
     "output_type": "stream",
     "text": [
      "Price of the put options is 6.401407649076464\n",
      "Price of the call options is 7.129713807093186\n",
      "True\n"
     ]
    }
   ],
   "source": [
    "p0 = black_scholes(r=0.05, S=69, K=70, T=1/2, sigma=0.35, option_type=\"put\")\n",
    "c0 = black_scholes(r=0.05, S=69, K=70, T=1/2, sigma=0.35, option_type=\"call\")\n",
    "satisfies_put_call_parity = verifiy_put_call_parity(c0, p0, stock_price=69, strike_price=70, time_to_maturity=1/2, interest_rate=0.05)\n",
    "\n",
    "\n",
    "print(satisfies_put_call_parity)\n",
    "\n",
    "\n"
   ],
   "metadata": {
    "collapsed": false,
    "pycharm": {
     "name": "#%%\n"
    }
   }
  }
 ],
 "metadata": {
  "kernelspec": {
   "display_name": "Python 3",
   "language": "python",
   "name": "python3"
  },
  "language_info": {
   "codemirror_mode": {
    "name": "ipython",
    "version": 2
   },
   "file_extension": ".py",
   "mimetype": "text/x-python",
   "name": "python",
   "nbconvert_exporter": "python",
   "pygments_lexer": "ipython2",
   "version": "2.7.6"
  }
 },
 "nbformat": 4,
 "nbformat_minor": 0
}