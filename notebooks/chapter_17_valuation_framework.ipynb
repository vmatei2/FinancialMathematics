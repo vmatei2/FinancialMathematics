{
 "cells": [
  {
   "cell_type": "markdown",
   "metadata": {
    "collapsed": true,
    "pycharm": {
     "name": "#%% md\n"
    }
   },
   "source": [
    "### Fundamental Theorem of Asset Pricing\n",
    "\n",
    "Central notion underlying the theorem is the concept of a *martingale* measure (i.e. a probability\n",
    "measure that removes the drift from a discounted risk factor(stochastic process)). Under a martingale\n",
    "measure, all risk factors drift with the risk-free rate - and not with any other market rate involving some\n",
    "kind of risk premium over the risk-free short rate.\n",
    "\n",
    "Considering a general market model *M*, according to the Fundamental Theorem of Asset Pricing,\n",
    "the following three statements are equivalent:\n",
    "\n",
    "* There are no arbitrage opportunities in the market model M\n",
    "* The set Q of P-equivalent martingale measure is nonempty\n",
    "* The set P of constant linear price systems is non empty\n",
    "\n",
    "When it comes to valuation and pricing of contingent claims, the importance of the theorem\n",
    "is illustrated by:\n",
    "\n",
    "* If the market model *M* is arbitrage-free, then there exists a unique price $V_0$\n",
    "    associated with any attainable contigent claim.\n",
    "\n",
    "* It satisfies that $V_0 = E_0^Q(e^{-rT}V_T) $, where $e^{-rT}$ is the relevant risk-neutral\n",
    "discount factor for a constant short rate r.\n",
    "\n",
    "Market completness in the general market model:\n",
    "\n",
    "* Market Model *M* is complete if it is arbitrage-free and if every contingent claim is attainable.\n",
    "* Suppose that the market model M is arbitrage-free. The market model is complete if and only if M is a singleton:\n",
    "i.e if there is a unique P-equivalent martingale measure."
   ]
  },
  {
   "cell_type": "code",
   "execution_count": 11,
   "outputs": [],
   "source": [
    "import datetime as dt\n",
    "import numpy as np\n",
    "def get_year_deltas(date_list, day_count=365):\n",
    "    \"\"\"\n",
    "    Function to return a vector of floats with day deltas in year fractions\n",
    "    :param date_list: collection of date time objects\n",
    "    :param day_count: number of days for a yer\n",
    "    :return: delta_list: year fractions\n",
    "    \"\"\"\n",
    "    start = date_list[0]\n",
    "    delta_list = [(date-start).days /day_count\n",
    "                  for date in date_list]\n",
    "    return np.array(delta_list)"
   ],
   "metadata": {
    "collapsed": false,
    "pycharm": {
     "name": "#%%\n"
    }
   }
  },
  {
   "cell_type": "code",
   "execution_count": 14,
   "outputs": [
    {
     "data": {
      "text/plain": "array([0.        , 0.49863014, 1.00273973])"
     },
     "execution_count": 14,
     "metadata": {},
     "output_type": "execute_result"
    }
   ],
   "source": [
    "dates = [dt.datetime(2020, 1, 1), dt.datetime(2020, 7, 1), dt.datetime(2021, 1, 1)]\n",
    "get_year_deltas(dates)"
   ],
   "metadata": {
    "collapsed": false,
    "pycharm": {
     "name": "#%%\n"
    }
   }
  },
  {
   "cell_type": "markdown",
   "source": [
    "### Constant Short Rate\n",
    "\n",
    "The case where the short rate is contant through time - assumption made in Black-Scholes or Cox-Ross-Rubinstein\n",
    "\n",
    "Assuming continuous discounting, as is usual for option pricing applications. In such a case, the general\n",
    "discount factor as of today, given a future date *t* and a constant short rate *r* is then given by $D_0(t) = e ^{-rt}$\n"
   ],
   "metadata": {
    "collapsed": false,
    "pycharm": {
     "name": "#%% md\n"
    }
   }
  }
 ],
 "metadata": {
  "kernelspec": {
   "display_name": "Python 3",
   "language": "python",
   "name": "python3"
  },
  "language_info": {
   "codemirror_mode": {
    "name": "ipython",
    "version": 2
   },
   "file_extension": ".py",
   "mimetype": "text/x-python",
   "name": "python",
   "nbconvert_exporter": "python",
   "pygments_lexer": "ipython2",
   "version": "2.7.6"
  }
 },
 "nbformat": 4,
 "nbformat_minor": 0
}